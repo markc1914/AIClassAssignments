{
  "cells": [
    {
      "cell_type": "markdown",
      "metadata": {
        "id": "view-in-github",
        "colab_type": "text"
      },
      "source": [
        "<a href=\"https://colab.research.google.com/github/markc1914/AIClassAssignments/blob/main/Assignment_3_F1_Grand_Prix_Wins_Analysis_Mark_Cornelius.ipynb\" target=\"_parent\"><img src=\"https://colab.research.google.com/assets/colab-badge.svg\" alt=\"Open In Colab\"/></a>"
      ]
    },
    {
      "cell_type": "markdown",
      "id": "f70a92b5",
      "metadata": {
        "id": "f70a92b5"
      },
      "source": [
        "# 🏎️ F1 Grand Prix Race Wins Analysis\n",
        "**Author:** Mark Cornelius  \n",
        "**Objective:** Download Kaggle F1 dataset and compute Grand Prix race wins per driver.\n",
        "\n",
        "> This notebook uses the `kagglehub` library to fetch the dataset and Pandas to clean and analyse the data."
      ]
    },
    {
      "cell_type": "code",
      "execution_count": null,
      "id": "ae1381b2",
      "metadata": {
        "id": "ae1381b2"
      },
      "outputs": [],
      "source": [
        "# !pip install kagglehub pandas\n",
        "import kagglehub\n",
        "import pandas as pd\n",
        "import os"
      ]
    },
    {
      "cell_type": "code",
      "execution_count": null,
      "id": "fb8badc4",
      "metadata": {
        "colab": {
          "base_uri": "https://localhost:8080/"
        },
        "id": "fb8badc4",
        "outputId": "5c5faa0a-6a13-4365-c47a-b63f14e7b082"
      },
      "outputs": [
        {
          "output_type": "stream",
          "name": "stdout",
          "text": [
            "Path to dataset files: /kaggle/input/formula-1-world-championship-1950-2020\n"
          ]
        }
      ],
      "source": [
        "# Download the dataset\n",
        "path = kagglehub.dataset_download(\"rohanrao/formula-1-world-championship-1950-2020\")\n",
        "print(\"Path to dataset files:\", path)"
      ]
    },
    {
      "cell_type": "code",
      "execution_count": null,
      "id": "6cd09a65",
      "metadata": {
        "id": "6cd09a65"
      },
      "outputs": [],
      "source": [
        "# Load the necessary dataframes\n",
        "circuits_df = pd.read_csv(os.path.join(path, 'circuits.csv'))\n",
        "races_df = pd.read_csv(os.path.join(path, 'races.csv'))\n",
        "results_df = pd.read_csv(os.path.join(path, 'results.csv'))\n",
        "drivers_df = pd.read_csv(os.path.join(path, 'drivers.csv'))\n",
        "sprint_results_df = pd.read_csv(os.path.join(path, 'sprint_results.csv'))"
      ]
    },
    {
      "cell_type": "code",
      "execution_count": null,
      "id": "8506eb60",
      "metadata": {
        "id": "8506eb60"
      },
      "outputs": [],
      "source": [
        "# Merge sprint results with races to get race information\n",
        "grandPrix_races_df = pd.merge(results_df, races_df[['raceId', 'year', 'name']], on='raceId')\n",
        "# This is key - have to change the dataframe to the right one\n",
        "\n",
        "# Merge with drivers to get driver names\n",
        "grandPrix_race_winners = pd.merge(grandPrix_races_df[grandPrix_races_df['positionOrder'] == 1], drivers_df[['driverId', 'forename', 'surname']], on='driverId')\n",
        "\n",
        "# Combine forename and surname for full driver name\n",
        "grandPrix_race_winners['driverName'] = grandPrix_race_winners['forename'] + ' ' + grandPrix_race_winners['surname']"
      ]
    },
    {
      "cell_type": "code",
      "execution_count": null,
      "id": "8361f4aa",
      "metadata": {
        "id": "8361f4aa"
      },
      "outputs": [],
      "source": [
        "# Count the number of sprint wins for each driver\n",
        "grandPrix_wins_count = grandPrix_race_winners['driverName'].value_counts().reset_index()\n",
        "grandPrix_wins_count.columns = ['driverName', 'grandprixwins']"
      ]
    },
    {
      "cell_type": "code",
      "execution_count": null,
      "id": "9c56fc78",
      "metadata": {
        "colab": {
          "base_uri": "https://localhost:8080/"
        },
        "id": "9c56fc78",
        "outputId": "3fff5b9b-6fd5-4d2c-9529-bb2eb713fcf4"
      },
      "outputs": [
        {
          "output_type": "stream",
          "name": "stdout",
          "text": [
            "Number of F1 Grand Prix race wins per driver:\n",
            "             driverName  grandprixwins\n",
            "0        Lewis Hamilton            105\n",
            "1    Michael Schumacher             91\n",
            "2        Max Verstappen             63\n",
            "3      Sebastian Vettel             53\n",
            "4           Alain Prost             51\n",
            "..                  ...            ...\n",
            "110     Johnnie Parsons              1\n",
            "111    Pastor Maldonado              1\n",
            "112         Lee Wallard              1\n",
            "113        Esteban Ocon              1\n",
            "114        Pierre Gasly              1\n",
            "\n",
            "[115 rows x 2 columns]\n"
          ]
        }
      ],
      "source": [
        "# Display the results\n",
        "print(\"Number of F1 Grand Prix race wins per driver:\")\n",
        "pd.set_option('display.max_rows', 50)\n",
        "print(grandPrix_wins_count)"
      ]
    },
    {
      "cell_type": "code",
      "source": [],
      "metadata": {
        "id": "Tz0xENjNvZPu"
      },
      "id": "Tz0xENjNvZPu",
      "execution_count": null,
      "outputs": []
    }
  ],
  "metadata": {
    "kernelspec": {
      "display_name": "Python 3",
      "language": "python",
      "name": "python3"
    },
    "language_info": {
      "name": "python",
      "version": "3.9"
    },
    "colab": {
      "provenance": [],
      "include_colab_link": true
    }
  },
  "nbformat": 4,
  "nbformat_minor": 5
}