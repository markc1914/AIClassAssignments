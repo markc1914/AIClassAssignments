{
  "nbformat": 4,
  "nbformat_minor": 0,
  "metadata": {
    "colab": {
      "provenance": [],
      "authorship_tag": "ABX9TyPsV6YJ3+HMUplw6xnw2o0z",
      "include_colab_link": true
    },
    "kernelspec": {
      "name": "python3",
      "display_name": "Python 3"
    },
    "language_info": {
      "name": "python"
    }
  },
  "cells": [
    {
      "cell_type": "markdown",
      "metadata": {
        "id": "view-in-github",
        "colab_type": "text"
      },
      "source": [
        "<a href=\"https://colab.research.google.com/github/markc1914/AIClassAssignments/blob/main/Assignment_05_Model_Comparison_Breast_Cancer.ipynb\" target=\"_parent\"><img src=\"https://colab.research.google.com/assets/colab-badge.svg\" alt=\"Open In Colab\"/></a>"
      ]
    },
    {
      "cell_type": "markdown",
      "source": [
        "# Assignment 05 - Model Comparison - Breast Cancer Dataset\n",
        "\n",
        "\n",
        "**Objective**: Comparison of techniques on Breast Cancer mass as dataset, including Logistic Regression, Support Vector Machines (SVM), Random Forest, and K-Nearest Neighbors (KNN) to classify whether mass is malignant (Cancereous) or benign. We then do the same thing using clustering\n",
        "\n",
        "**Author**: Mark Cornelius (with considerable help from Gemini)"
      ],
      "metadata": {
        "id": "LJUj1Slld349"
      }
    },
    {
      "cell_type": "markdown",
      "metadata": {
        "id": "e286bdbe"
      },
      "source": [
        "# Task\n",
        "Perform Logistic Regression, Support Vector Machines (SVM), Random Forest, and K-Nearest Neighbors (KNN) on the sklearn breast cancer dataset, evaluate their performance, and compare the results."
      ]
    },
    {
      "cell_type": "markdown",
      "metadata": {
        "id": "94f0e7f6"
      },
      "source": [
        "## Load the dataset\n",
        "\n",
        "### Subtask:\n",
        "Load the breast cancer dataset from `sklearn.datasets`.\n"
      ]
    },
    {
      "cell_type": "markdown",
      "metadata": {
        "id": "d7af9123"
      },
      "source": [
        "**Reasoning**:\n",
        "Import the necessary function and load the breast cancer dataset.\n",
        "\n"
      ]
    },
    {
      "cell_type": "code",
      "metadata": {
        "colab": {
          "base_uri": "https://localhost:8080/"
        },
        "id": "946d67fd",
        "outputId": "d9cc9b29-963d-4374-f9b9-fbac0814e346"
      },
      "source": [
        "from sklearn.datasets import load_breast_cancer\n",
        "\n",
        "cancer = load_breast_cancer()\n",
        "\n",
        "print(cancer.keys())"
      ],
      "execution_count": null,
      "outputs": [
        {
          "output_type": "stream",
          "name": "stdout",
          "text": [
            "dict_keys(['data', 'target', 'frame', 'target_names', 'DESCR', 'feature_names', 'filename', 'data_module'])\n"
          ]
        }
      ]
    },
    {
      "cell_type": "markdown",
      "metadata": {
        "id": "e00f88ac"
      },
      "source": [
        "## Split the data\n",
        "\n",
        "### Subtask:\n",
        "Split the dataset into training and testing sets.\n"
      ]
    },
    {
      "cell_type": "markdown",
      "metadata": {
        "id": "56e14245"
      },
      "source": [
        "**Reasoning**:\n",
        "Split the dataset into training and testing sets using `train_test_split`.\n",
        "\n"
      ]
    },
    {
      "cell_type": "code",
      "metadata": {
        "colab": {
          "base_uri": "https://localhost:8080/"
        },
        "id": "c77181f4",
        "outputId": "5e848355-8ca6-4e0c-f6cc-0ed6bdd4b506"
      },
      "source": [
        "from sklearn.model_selection import train_test_split\n",
        "\n",
        "X_train, X_test, y_train, y_test = train_test_split(cancer.data, cancer.target, test_size=0.25, random_state=42)\n",
        "\n",
        "print(f\"Shape of X_train: {X_train.shape}\")\n",
        "print(f\"Shape of X_test: {X_test.shape}\")\n",
        "print(f\"Shape of y_train: {y_train.shape}\")\n",
        "print(f\"Shape of y_test: {y_test.shape}\")"
      ],
      "execution_count": null,
      "outputs": [
        {
          "output_type": "stream",
          "name": "stdout",
          "text": [
            "Shape of X_train: (426, 30)\n",
            "Shape of X_test: (143, 30)\n",
            "Shape of y_train: (426,)\n",
            "Shape of y_test: (143,)\n"
          ]
        }
      ]
    },
    {
      "cell_type": "markdown",
      "metadata": {
        "id": "e0449e7f"
      },
      "source": [
        "## Train models\n",
        "\n",
        "### Subtask:\n",
        "Train Logistic Regression, SVM, Random Forest, and KNN models on the training data.\n"
      ]
    },
    {
      "cell_type": "markdown",
      "metadata": {
        "id": "20f049a0"
      },
      "source": [
        "**Reasoning**:\n",
        "Import the necessary model classes, instantiate them, and train each model using the training data.\n",
        "\n"
      ]
    },
    {
      "cell_type": "code",
      "metadata": {
        "colab": {
          "base_uri": "https://localhost:8080/"
        },
        "id": "02f15405",
        "outputId": "24f1e04f-e1b2-47b9-a919-260b18d3d63a"
      },
      "source": [
        "from sklearn.linear_model import LogisticRegression\n",
        "from sklearn.svm import SVC\n",
        "from sklearn.ensemble import RandomForestClassifier\n",
        "from sklearn.neighbors import KNeighborsClassifier\n",
        "\n",
        "# Instantiate models\n",
        "logistic_regression_model = LogisticRegression()\n",
        "svm_model = SVC()\n",
        "random_forest_model = RandomForestClassifier()\n",
        "knn_model = KNeighborsClassifier()\n",
        "\n",
        "# Train models\n",
        "logistic_regression_model.fit(X_train, y_train)\n",
        "svm_model.fit(X_train, y_train)\n",
        "random_forest_model.fit(X_train, y_train)\n",
        "knn_model.fit(X_train, y_train)\n",
        "\n",
        "print(\"All models trained successfully.\")"
      ],
      "execution_count": null,
      "outputs": [
        {
          "output_type": "stream",
          "name": "stderr",
          "text": [
            "/usr/local/lib/python3.11/dist-packages/sklearn/linear_model/_logistic.py:465: ConvergenceWarning: lbfgs failed to converge (status=1):\n",
            "STOP: TOTAL NO. OF ITERATIONS REACHED LIMIT.\n",
            "\n",
            "Increase the number of iterations (max_iter) or scale the data as shown in:\n",
            "    https://scikit-learn.org/stable/modules/preprocessing.html\n",
            "Please also refer to the documentation for alternative solver options:\n",
            "    https://scikit-learn.org/stable/modules/linear_model.html#logistic-regression\n",
            "  n_iter_i = _check_optimize_result(\n"
          ]
        },
        {
          "output_type": "stream",
          "name": "stdout",
          "text": [
            "All models trained successfully.\n"
          ]
        }
      ]
    },
    {
      "cell_type": "markdown",
      "metadata": {
        "id": "dc1bbece"
      },
      "source": [
        "## Evaluate models\n",
        "\n",
        "### Subtask:\n",
        "Evaluate the performance of each model on the testing data using appropriate metrics (e.g., accuracy, precision, recall, F1-score).\n"
      ]
    },
    {
      "cell_type": "markdown",
      "metadata": {
        "id": "def3e185"
      },
      "source": [
        "**Reasoning**:\n",
        "Evaluate the performance of each trained model on the testing data using accuracy, precision, recall, and F1-score and store the metrics for comparison.\n",
        "\n"
      ]
    },
    {
      "cell_type": "code",
      "metadata": {
        "colab": {
          "base_uri": "https://localhost:8080/"
        },
        "id": "c9be355a",
        "outputId": "98a8f110-78d6-4593-e000-bf6dcba4db67"
      },
      "source": [
        "from sklearn.metrics import accuracy_score, precision_score, recall_score, f1_score\n",
        "\n",
        "models = {\n",
        "    \"Logistic Regression\": logistic_regression_model,\n",
        "    \"SVM\": svm_model,\n",
        "    \"Random Forest\": random_forest_model,\n",
        "    \"KNN\": knn_model\n",
        "}\n",
        "\n",
        "performance_metrics = {}\n",
        "\n",
        "for model_name, model in models.items():\n",
        "    y_pred = model.predict(X_test)\n",
        "    accuracy = accuracy_score(y_test, y_pred)\n",
        "    precision = precision_score(y_test, y_pred)\n",
        "    recall = recall_score(y_test, y_pred)\n",
        "    f1 = f1_score(y_test, y_pred)\n",
        "\n",
        "    performance_metrics[model_name] = {\n",
        "        \"Accuracy\": accuracy,\n",
        "        \"Precision\": precision,\n",
        "        \"Recall\": recall,\n",
        "        \"F1-score\": f1\n",
        "    }\n",
        "\n",
        "for model_name, metrics in performance_metrics.items():\n",
        "    print(f\"--- {model_name} ---\")\n",
        "    for metric_name, value in metrics.items():\n",
        "        print(f\"{metric_name}: {value:.4f}\")"
      ],
      "execution_count": null,
      "outputs": [
        {
          "output_type": "stream",
          "name": "stdout",
          "text": [
            "--- Logistic Regression ---\n",
            "Accuracy: 0.9650\n",
            "Precision: 0.9667\n",
            "Recall: 0.9775\n",
            "F1-score: 0.9721\n",
            "--- SVM ---\n",
            "Accuracy: 0.9510\n",
            "Precision: 0.9362\n",
            "Recall: 0.9888\n",
            "F1-score: 0.9617\n",
            "--- Random Forest ---\n",
            "Accuracy: 0.9650\n",
            "Precision: 0.9667\n",
            "Recall: 0.9775\n",
            "F1-score: 0.9721\n",
            "--- KNN ---\n",
            "Accuracy: 0.9650\n",
            "Precision: 0.9565\n",
            "Recall: 0.9888\n",
            "F1-score: 0.9724\n"
          ]
        }
      ]
    },
    {
      "cell_type": "markdown",
      "metadata": {
        "id": "01fd80ec"
      },
      "source": [
        "## Compare models\n",
        "\n",
        "### Subtask:\n",
        "Compare the performance of the models based on the evaluation metrics.\n"
      ]
    },
    {
      "cell_type": "markdown",
      "metadata": {
        "id": "b7d5a873"
      },
      "source": [
        "**Reasoning**:\n",
        "Access and display the `performance_metrics` dictionary to compare the model performances based on the evaluation metrics.\n",
        "\n"
      ]
    },
    {
      "cell_type": "code",
      "metadata": {
        "colab": {
          "base_uri": "https://localhost:8080/"
        },
        "id": "c11745e4",
        "outputId": "5e202a15-4331-4ff3-a093-f3520869bdcf"
      },
      "source": [
        "print(\"Model Performance Metrics:\")\n",
        "for model_name, metrics in performance_metrics.items():\n",
        "    print(f\"\\n--- {model_name} ---\")\n",
        "    for metric_name, value in metrics.items():\n",
        "        print(f\"{metric_name}: {value:.4f}\")\n",
        "\n",
        "# Compare models based on metrics\n",
        "best_models = {}\n",
        "for metric in [\"Accuracy\", \"Precision\", \"Recall\", \"F1-score\"]:\n",
        "    best_value = 0\n",
        "    best_model = \"\"\n",
        "    for model_name, metrics in performance_metrics.items():\n",
        "        if metrics[metric] > best_value:\n",
        "            best_value = metrics[metric]\n",
        "            best_model = model_name\n",
        "    best_models[metric] = {\"model\": best_model, \"value\": best_value}\n",
        "\n",
        "print(\"\\n--- Best Performing Model per Metric ---\")\n",
        "for metric, result in best_models.items():\n",
        "    print(f\"{metric}: {result['model']} ({result['value']:.4f})\")"
      ],
      "execution_count": null,
      "outputs": [
        {
          "output_type": "stream",
          "name": "stdout",
          "text": [
            "Model Performance Metrics:\n",
            "\n",
            "--- Logistic Regression ---\n",
            "Accuracy: 0.9650\n",
            "Precision: 0.9667\n",
            "Recall: 0.9775\n",
            "F1-score: 0.9721\n",
            "\n",
            "--- SVM ---\n",
            "Accuracy: 0.9510\n",
            "Precision: 0.9362\n",
            "Recall: 0.9888\n",
            "F1-score: 0.9617\n",
            "\n",
            "--- Random Forest ---\n",
            "Accuracy: 0.9650\n",
            "Precision: 0.9667\n",
            "Recall: 0.9775\n",
            "F1-score: 0.9721\n",
            "\n",
            "--- KNN ---\n",
            "Accuracy: 0.9650\n",
            "Precision: 0.9565\n",
            "Recall: 0.9888\n",
            "F1-score: 0.9724\n",
            "\n",
            "--- Best Performing Model per Metric ---\n",
            "Accuracy: Logistic Regression (0.9650)\n",
            "Precision: Logistic Regression (0.9667)\n",
            "Recall: SVM (0.9888)\n",
            "F1-score: KNN (0.9724)\n"
          ]
        }
      ]
    },
    {
      "cell_type": "markdown",
      "metadata": {
        "id": "41f61f4e"
      },
      "source": [
        "## Present results\n",
        "\n",
        "### Subtask:\n",
        "Display the results of the model comparison in a clear and organized manner.\n"
      ]
    },
    {
      "cell_type": "markdown",
      "metadata": {
        "id": "c8b70642"
      },
      "source": [
        "**Reasoning**:\n",
        "Display the model performance results and the best performing model for each metric in a clear and organized manner, following the instructions.\n",
        "\n"
      ]
    },
    {
      "cell_type": "code",
      "metadata": {
        "colab": {
          "base_uri": "https://localhost:8080/"
        },
        "id": "54d4fb01",
        "outputId": "3586dfa6-e5f5-4ca5-ff4e-477460e947f6"
      },
      "source": [
        "print(\"--- Model Performance Results ---\")\n",
        "for model_name, metrics in performance_metrics.items():\n",
        "    print(f\"\\n--- {model_name} ---\")\n",
        "    for metric_name, value in metrics.items():\n",
        "        print(f\"{metric_name}: {value:.4f}\")\n",
        "\n",
        "print(\"\\n--- Best Performing Model per Metric ---\")\n",
        "for metric, result in best_models.items():\n",
        "    print(f\"{metric}: {result['model']} ({result['value']:.4f})\")"
      ],
      "execution_count": null,
      "outputs": [
        {
          "output_type": "stream",
          "name": "stdout",
          "text": [
            "--- Model Performance Results ---\n",
            "\n",
            "--- Logistic Regression ---\n",
            "Accuracy: 0.9650\n",
            "Precision: 0.9667\n",
            "Recall: 0.9775\n",
            "F1-score: 0.9721\n",
            "\n",
            "--- SVM ---\n",
            "Accuracy: 0.9510\n",
            "Precision: 0.9362\n",
            "Recall: 0.9888\n",
            "F1-score: 0.9617\n",
            "\n",
            "--- Random Forest ---\n",
            "Accuracy: 0.9650\n",
            "Precision: 0.9667\n",
            "Recall: 0.9775\n",
            "F1-score: 0.9721\n",
            "\n",
            "--- KNN ---\n",
            "Accuracy: 0.9650\n",
            "Precision: 0.9565\n",
            "Recall: 0.9888\n",
            "F1-score: 0.9724\n",
            "\n",
            "--- Best Performing Model per Metric ---\n",
            "Accuracy: Logistic Regression (0.9650)\n",
            "Precision: Logistic Regression (0.9667)\n",
            "Recall: SVM (0.9888)\n",
            "F1-score: KNN (0.9724)\n"
          ]
        }
      ]
    },
    {
      "cell_type": "markdown",
      "metadata": {
        "id": "d0b9f4fd"
      },
      "source": [
        "## Summary:\n",
        "\n",
        "### Data Analysis Key Findings\n",
        "\n",
        "*   Four machine learning models (Logistic Regression, SVM, Random Forest, and KNN) were trained and evaluated on the breast cancer dataset.\n",
        "*   All models demonstrated high performance on the test set, with Accuracy, Precision, Recall, and F1-scores generally above 0.95.\n",
        "*   Logistic Regression and Random Forest achieved the highest Accuracy (0.9650) and Precision (0.9667).\n",
        "*   SVM exhibited the highest Recall (0.9888).\n",
        "*   KNN attained the highest F1-score (0.9724).\n",
        "\n",
        "### Insights or Next Steps\n",
        "\n",
        "*   While all models performed well, the choice of the \"best\" model depends on the specific priorities for this classification task (e.g., minimizing false negatives might prioritize a model with higher Recall like SVM).\n",
        "*   Further steps could involve hyperparameter tuning for each model to potentially improve performance, especially addressing the convergence warning for Logistic Regression.\n"
      ]
    },
    {
      "cell_type": "markdown",
      "metadata": {
        "id": "351aaea8"
      },
      "source": [
        "## Visualize results\n",
        "\n",
        "### Subtask:\n",
        "Visualize the performance metrics of each model using a bar chart."
      ]
    },
    {
      "cell_type": "markdown",
      "metadata": {
        "id": "a123dbb1"
      },
      "source": [
        "**Reasoning**:\n",
        "Create a pandas DataFrame from the `performance_metrics` dictionary and use seaborn to generate a bar plot to visualize the performance of each model across different metrics."
      ]
    },
    {
      "cell_type": "code",
      "metadata": {
        "colab": {
          "base_uri": "https://localhost:8080/",
          "height": 564
        },
        "id": "c9b4b7a2",
        "outputId": "bf111d0d-61b8-47da-d808-ded14199a070"
      },
      "source": [
        "import pandas as pd\n",
        "import matplotlib.pyplot as plt\n",
        "import seaborn as sns\n",
        "\n",
        "# Convert the dictionary to a pandas DataFrame\n",
        "df_performance = pd.DataFrame.from_dict(performance_metrics, orient='index')\n",
        "\n",
        "# Melt the DataFrame to have a suitable format for seaborn\n",
        "df_performance_melted = df_performance.reset_index().melt(id_vars='index', var_name='Metric', value_name='Score')\n",
        "df_performance_melted = df_performance_melted.rename(columns={'index': 'Model'})\n",
        "\n",
        "# Create a bar plot\n",
        "plt.figure(figsize=(12, 6))\n",
        "sns.barplot(x='Model', y='Score', hue='Metric', data=df_performance_melted)\n",
        "plt.title('Model Performance Comparison')\n",
        "plt.ylabel('Score')\n",
        "plt.ylim(0.9, 1.0)  # Set y-axis limits to focus on the differences\n",
        "plt.grid(axis='y', linestyle='--')\n",
        "plt.show()"
      ],
      "execution_count": null,
      "outputs": [
        {
          "output_type": "display_data",
          "data": {
            "text/plain": [
              "<Figure size 1200x600 with 1 Axes>"
            ],
            "image/png": "[encoded data removed]"
          },
          "metadata": {}
        }
      ]
    },
    {
      "cell_type": "markdown",
      "metadata": {
        "id": "bbc24816"
      },
      "source": [
        "# Task\n",
        "Perform clustering on the sklearn breast cancer dataset, visualize the clusters, and interpret the findings."
      ]
    },
    {
      "cell_type": "markdown",
      "metadata": {
        "id": "b2062bff"
      },
      "source": [
        "## Data preprocessing\n",
        "\n",
        "### Subtask:\n",
        "Scale the data as clustering algorithms are sensitive to the scale of features.\n"
      ]
    },
    {
      "cell_type": "markdown",
      "metadata": {
        "id": "0dda9413"
      },
      "source": [
        "**Reasoning**:\n",
        "Import the necessary scaler and scale the training and testing data.\n",
        "\n"
      ]
    },
    {
      "cell_type": "code",
      "metadata": {
        "colab": {
          "base_uri": "https://localhost:8080/"
        },
        "id": "5e886ab4",
        "outputId": "081213c9-d8a9-459f-fba0-77b983d0c3b7"
      },
      "source": [
        "from sklearn.preprocessing import StandardScaler\n",
        "\n",
        "scaler = StandardScaler()\n",
        "X_train_scaled = scaler.fit_transform(X_train)\n",
        "X_test_scaled = scaler.transform(X_test)\n",
        "\n",
        "print(\"Data scaled successfully.\")"
      ],
      "execution_count": null,
      "outputs": [
        {
          "output_type": "stream",
          "name": "stdout",
          "text": [
            "Data scaled successfully.\n"
          ]
        }
      ]
    },
    {
      "cell_type": "markdown",
      "metadata": {
        "id": "353fb522"
      },
      "source": [
        "## Determine the optimal number of clusters\n",
        "\n",
        "### Subtask:\n",
        "Use methods like the elbow method or silhouette score to find the optimal number of clusters.\n"
      ]
    },
    {
      "cell_type": "markdown",
      "metadata": {
        "id": "bee69b08"
      },
      "source": [
        "**Reasoning**:\n",
        "Calculate silhouette scores for different numbers of clusters and plot the results to find the optimal number of clusters.\n",
        "\n"
      ]
    },
    {
      "cell_type": "code",
      "metadata": {
        "colab": {
          "base_uri": "https://localhost:8080/",
          "height": 427
        },
        "id": "15f14cf7",
        "outputId": "418a9b0f-8b02-4de6-83fb-ced78ac66c39"
      },
      "source": [
        "from sklearn.cluster import KMeans\n",
        "from sklearn.metrics import silhouette_score\n",
        "import matplotlib.pyplot as plt\n",
        "\n",
        "silhouette_scores = []\n",
        "k_range = range(2, 11)\n",
        "\n",
        "for n_clusters in k_range:\n",
        "    kmeans = KMeans(n_clusters=n_clusters, random_state=42, n_init=10)\n",
        "    kmeans.fit(X_train_scaled)\n",
        "    score = silhouette_score(X_train_scaled, kmeans.labels_)\n",
        "    silhouette_scores.append(score)\n",
        "\n",
        "plt.figure(figsize=(8, 4))\n",
        "plt.plot(k_range, silhouette_scores, marker='o')\n",
        "plt.xlabel(\"Number of clusters (k)\")\n",
        "plt.ylabel(\"Silhouette Score\")\n",
        "plt.title(\"Silhouette Score vs. Number of Clusters\")\n",
        "plt.xticks(k_range)\n",
        "plt.grid(True)\n",
        "plt.show()\n",
        "\n",
        "optimal_k = k_range[silhouette_scores.index(max(silhouette_scores))]\n",
        "print(f\"The optimal number of clusters based on silhouette score is: {optimal_k}\")"
      ],
      "execution_count": null,
      "outputs": [
        {
          "output_type": "display_data",
          "data": {
            "text/plain": [
              "<Figure size 800x400 with 1 Axes>"
            ],
            "image/png": "[encoded data removed]"
          },
          "metadata": {}
        },
        {
          "output_type": "stream",
          "name": "stdout",
          "text": [
            "The optimal number of clusters based on silhouette score is: 2\n"
          ]
        }
      ]
    },
    {
      "cell_type": "markdown",
      "metadata": {
        "id": "61d4aeca"
      },
      "source": [
        "## Apply clustering algorithm\n",
        "\n",
        "### Subtask:\n",
        "Apply a clustering algorithm (e.g., K-Means) with the optimal number of clusters.\n"
      ]
    },
    {
      "cell_type": "markdown",
      "metadata": {
        "id": "e2d9892b"
      },
      "source": [
        "**Reasoning**:\n",
        "Import KMeans, instantiate it with the optimal number of clusters, fit it to the scaled training data, and predict cluster labels for both scaled training and testing data.\n",
        "\n"
      ]
    },
    {
      "cell_type": "code",
      "metadata": {
        "colab": {
          "base_uri": "https://localhost:8080/"
        },
        "id": "c34ce054",
        "outputId": "e5e60cc8-0931-4eb2-b1e9-3ec13f8afa36"
      },
      "source": [
        "from sklearn.cluster import KMeans\n",
        "\n",
        "kmeans = KMeans(n_clusters=optimal_k, random_state=42, n_init=10)\n",
        "kmeans.fit(X_train_scaled)\n",
        "\n",
        "train_clusters = kmeans.predict(X_train_scaled)\n",
        "test_clusters = kmeans.predict(X_test_scaled)\n",
        "\n",
        "print(\"Clustering applied and labels predicted successfully.\")"
      ],
      "execution_count": null,
      "outputs": [
        {
          "output_type": "stream",
          "name": "stdout",
          "text": [
            "Clustering applied and labels predicted successfully.\n"
          ]
        }
      ]
    },
    {
      "cell_type": "markdown",
      "metadata": {
        "id": "676d1fe2"
      },
      "source": [
        "## Visualize the clusters\n",
        "\n",
        "### Subtask:\n",
        "Visualize the clusters, perhaps using dimensionality reduction techniques like PCA if the data has many features.\n"
      ]
    },
    {
      "cell_type": "markdown",
      "metadata": {
        "id": "7b6e341d"
      },
      "source": [
        "**Reasoning**:\n",
        "Import PCA, apply it to the scaled training data, transform both training and testing data, and then create a scatter plot of the transformed training data colored by cluster labels.\n",
        "\n"
      ]
    },
    {
      "cell_type": "code",
      "metadata": {
        "colab": {
          "base_uri": "https://localhost:8080/",
          "height": 564
        },
        "id": "c7db6e71",
        "outputId": "890e1826-4b52-40d7-b546-cf9c5b7bb69f"
      },
      "source": [
        "from sklearn.decomposition import PCA\n",
        "import matplotlib.pyplot as plt\n",
        "\n",
        "pca = PCA(n_components=2)\n",
        "X_train_pca = pca.fit_transform(X_train_scaled)\n",
        "X_test_pca = pca.transform(X_test_scaled)\n",
        "\n",
        "plt.figure(figsize=(8, 6))\n",
        "scatter = plt.scatter(X_train_pca[:, 0], X_train_pca[:, 1], c=train_clusters, cmap='viridis', alpha=0.7)\n",
        "plt.title('Clusters based on PCA-reduced Training Data')\n",
        "plt.xlabel('Principal Component 1')\n",
        "plt.ylabel('Principal Component 2')\n",
        "plt.colorbar(scatter, label='Cluster Label')\n",
        "plt.grid(True)\n",
        "plt.show()"
      ],
      "execution_count": null,
      "outputs": [
        {
          "output_type": "display_data",
          "data": {
            "text/plain": [
              "<Figure size 800x600 with 2 Axes>"
            ],
            "image/png": "[encoded data removed]"
          },
          "metadata": {}
        }
      ]
    },
    {
      "cell_type": "markdown",
      "metadata": {
        "id": "071806c9"
      },
      "source": [
        "## Interpret the clusters\n",
        "\n",
        "### Subtask:\n",
        "Analyze the characteristics of each cluster.\n"
      ]
    },
    {
      "cell_type": "markdown",
      "metadata": {
        "id": "11242c0b"
      },
      "source": [
        "**Reasoning**:\n",
        "Create a pandas DataFrame with original features and cluster labels, calculate mean feature values and true label distribution per cluster, and display the results to analyze cluster characteristics.\n",
        "\n"
      ]
    },
    {
      "cell_type": "code",
      "metadata": {
        "colab": {
          "base_uri": "https://localhost:8080/",
          "height": 406
        },
        "id": "eed1185f",
        "outputId": "68c21303-d491-42f4-db87-3d820afa001e"
      },
      "source": [
        "import pandas as pd\n",
        "\n",
        "# Create a DataFrame with original training data and cluster labels\n",
        "df_train_clusters = pd.DataFrame(X_train, columns=cancer.feature_names)\n",
        "df_train_clusters['Cluster'] = train_clusters\n",
        "df_train_clusters['True_Label'] = y_train\n",
        "\n",
        "# Calculate the mean values of the original features for each cluster\n",
        "mean_features_per_cluster = df_train_clusters.groupby('Cluster')[cancer.feature_names].mean()\n",
        "\n",
        "# Calculate the distribution of the true labels within each cluster\n",
        "true_label_distribution_per_cluster = df_train_clusters.groupby('Cluster')['True_Label'].value_counts(normalize=True).unstack(fill_value=0)\n",
        "\n",
        "# Display the results\n",
        "print(\"Mean Feature Values per Cluster:\")\n",
        "display(mean_features_per_cluster)\n",
        "\n",
        "print(\"\\nTrue Label Distribution per Cluster:\")\n",
        "display(true_label_distribution_per_cluster)"
      ],
      "execution_count": null,
      "outputs": [
        {
          "output_type": "stream",
          "name": "stdout",
          "text": [
            "Mean Feature Values per Cluster:\n"
          ]
        },
        {
          "output_type": "display_data",
          "data": {
            "text/plain": [
              "         mean radius  mean texture  mean perimeter   mean area  \\\n",
              "Cluster                                                          \n",
              "0          12.475475     18.238191       80.103404  490.799291   \n",
              "1          17.348410     21.080139      114.957361  976.321528   \n",
              "\n",
              "         mean smoothness  mean compactness  mean concavity  \\\n",
              "Cluster                                                      \n",
              "0               0.091064          0.075173        0.042373   \n",
              "1               0.104354          0.156035        0.175785   \n",
              "\n",
              "         mean concave points  mean symmetry  mean fractal dimension  ...  \\\n",
              "Cluster                                                              ...   \n",
              "0                   0.025685       0.171056                0.061499  ...   \n",
              "1                   0.090943       0.197588                0.064775  ...   \n",
              "\n",
              "         worst radius  worst texture  worst perimeter   worst area  \\\n",
              "Cluster                                                              \n",
              "0           13.811993      24.020177        89.687128   600.359574   \n",
              "1           20.911597      28.418333       140.569444  1409.052778   \n",
              "\n",
              "         worst smoothness  worst compactness  worst concavity  \\\n",
              "Cluster                                                         \n",
              "0                0.123818           0.173908         0.159861   \n",
              "1                0.145661           0.392297         0.478878   \n",
              "\n",
              "         worst concave points  worst symmetry  worst fractal dimension  \n",
              "Cluster                                                                 \n",
              "0                    0.075629        0.268766                 0.077411  \n",
              "1                    0.185158        0.325067                 0.094969  \n",
              "\n",
              "[2 rows x 30 columns]"
            ],
            "text/html": [
              "\n",
              "  <div id=\"df-6638d948-1f94-476e-9f8c-0f700ba60937\" class=\"colab-df-container\">\n",
              "    <div>\n",
              "<style scoped>\n",
              "    .dataframe tbody tr th:only-of-type {\n",
              "        vertical-align: middle;\n",
              "    }\n",
              "\n",
              "    .dataframe tbody tr th {\n",
              "        vertical-align: top;\n",
              "    }\n",
              "\n",
              "    .dataframe thead th {\n",
              "        text-align: right;\n",
              "    }\n",
              "</style>\n",
              "<table border=\"1\" class=\"dataframe\">\n",
              "  <thead>\n",
              "    <tr style=\"text-align: right;\">\n",
              "      <th></th>\n",
              "      <th>mean radius</th>\n",
              "      <th>mean texture</th>\n",
              "      <th>mean perimeter</th>\n",
              "      <th>mean area</th>\n",
              "      <th>mean smoothness</th>\n",
              "      <th>mean compactness</th>\n",
              "      <th>mean concavity</th>\n",
              "      <th>mean concave points</th>\n",
              "      <th>mean symmetry</th>\n",
              "      <th>mean fractal dimension</th>\n",
              "      <th>...</th>\n",
              "      <th>worst radius</th>\n",
              "      <th>worst texture</th>\n",
              "      <th>worst perimeter</th>\n",
              "      <th>worst area</th>\n",
              "      <th>worst smoothness</th>\n",
              "      <th>worst compactness</th>\n",
              "      <th>worst concavity</th>\n",
              "      <th>worst concave points</th>\n",
              "      <th>worst symmetry</th>\n",
              "      <th>worst fractal dimension</th>\n",
              "    </tr>\n",
              "    <tr>\n",
              "      <th>Cluster</th>\n",
              "      <th></th>\n",
              "      <th></th>\n",
              "      <th></th>\n",
              "      <th></th>\n",
              "      <th></th>\n",
              "      <th></th>\n",
              "      <th></th>\n",
              "      <th></th>\n",
              "      <th></th>\n",
              "      <th></th>\n",
              "      <th></th>\n",
              "      <th></th>\n",
              "      <th></th>\n",
              "      <th></th>\n",
              "      <th></th>\n",
              "      <th></th>\n",
              "      <th></th>\n",
              "      <th></th>\n",
              "      <th></th>\n",
              "      <th></th>\n",
              "      <th></th>\n",
              "    </tr>\n",
              "  </thead>\n",
              "  <tbody>\n",
              "    <tr>\n",
              "      <th>0</th>\n",
              "      <td>12.475475</td>\n",
              "      <td>18.238191</td>\n",
              "      <td>80.103404</td>\n",
              "      <td>490.799291</td>\n",
              "      <td>0.091064</td>\n",
              "      <td>0.075173</td>\n",
              "      <td>0.042373</td>\n",
              "      <td>0.025685</td>\n",
              "      <td>0.171056</td>\n",
              "      <td>0.061499</td>\n",
              "      <td>...</td>\n",
              "      <td>13.811993</td>\n",
              "      <td>24.020177</td>\n",
              "      <td>89.687128</td>\n",
              "      <td>600.359574</td>\n",
              "      <td>0.123818</td>\n",
              "      <td>0.173908</td>\n",
              "      <td>0.159861</td>\n",
              "      <td>0.075629</td>\n",
              "      <td>0.268766</td>\n",
              "      <td>0.077411</td>\n",
              "    </tr>\n",
              "    <tr>\n",
              "      <th>1</th>\n",
              "      <td>17.348410</td>\n",
              "      <td>21.080139</td>\n",
              "      <td>114.957361</td>\n",
              "      <td>976.321528</td>\n",
              "      <td>0.104354</td>\n",
              "      <td>0.156035</td>\n",
              "      <td>0.175785</td>\n",
              "      <td>0.090943</td>\n",
              "      <td>0.197588</td>\n",
              "      <td>0.064775</td>\n",
              "      <td>...</td>\n",
              "      <td>20.911597</td>\n",
              "      <td>28.418333</td>\n",
              "      <td>140.569444</td>\n",
              "      <td>1409.052778</td>\n",
              "      <td>0.145661</td>\n",
              "      <td>0.392297</td>\n",
              "      <td>0.478878</td>\n",
              "      <td>0.185158</td>\n",
              "      <td>0.325067</td>\n",
              "      <td>0.094969</td>\n",
              "    </tr>\n",
              "  </tbody>\n",
              "</table>\n",
              "<p>2 rows × 30 columns</p>\n",
              "</div>\n",
              "    <div class=\"colab-df-buttons\">\n",
              "\n",
              "  <div class=\"colab-df-container\">\n",
              "    <button class=\"colab-df-convert\" onclick=\"convertToInteractive('df-6638d948-1f94-476e-9f8c-0f700ba60937')\"\n",
              "            title=\"Convert this dataframe to an interactive table.\"\n",
              "            style=\"display:none;\">\n",
              "\n",
              "  <svg xmlns=\"http://www.w3.org/2000/svg\" height=\"24px\" viewBox=\"0 -960 960 960\">\n",
              "    <path d=\"M120-120v-720h720v720H120Zm60-500h600v-160H180v160Zm220 220h160v-160H400v160Zm0 220h160v-160H400v160ZM180-400h160v-160H180v160Zm440 0h160v-160H620v160ZM180-180h160v-160H180v160Zm440 0h160v-160H620v160Z\"/>\n",
              "  </svg>\n",
              "    </button>\n",
              "\n",
              "  <style>\n",
              "    .colab-df-container {\n",
              "      display:flex;\n",
              "      gap: 12px;\n",
              "    }\n",
              "\n",
              "    .colab-df-convert {\n",
              "      background-color: #E8F0FE;\n",
              "      border: none;\n",
              "      border-radius: 50%;\n",
              "      cursor: pointer;\n",
              "      display: none;\n",
              "      fill: #1967D2;\n",
              "      height: 32px;\n",
              "      padding: 0 0 0 0;\n",
              "      width: 32px;\n",
              "    }\n",
              "\n",
              "    .colab-df-convert:hover {\n",
              "      background-color: #E2EBFA;\n",
              "      box-shadow: 0px 1px 2px rgba(60, 64, 67, 0.3), 0px 1px 3px 1px rgba(60, 64, 67, 0.15);\n",
              "      fill: #174EA6;\n",
              "    }\n",
              "\n",
              "    .colab-df-buttons div {\n",
              "      margin-bottom: 4px;\n",
              "    }\n",
              "\n",
              "    [theme=dark] .colab-df-convert {\n",
              "      background-color: #3B4455;\n",
              "      fill: #D2E3FC;\n",
              "    }\n",
              "\n",
              "    [theme=dark] .colab-df-convert:hover {\n",
              "      background-color: #434B5C;\n",
              "      box-shadow: 0px 1px 3px 1px rgba(0, 0, 0, 0.15);\n",
              "      filter: drop-shadow(0px 1px 2px rgba(0, 0, 0, 0.3));\n",
              "      fill: #FFFFFF;\n",
              "    }\n",
              "  </style>\n",
              "\n",
              "    <script>\n",
              "      const buttonEl =\n",
              "        document.querySelector('#df-6638d948-1f94-476e-9f8c-0f700ba60937 button.colab-df-convert');\n",
              "      buttonEl.style.display =\n",
              "        google.colab.kernel.accessAllowed ? 'block' : 'none';\n",
              "\n",
              "      async function convertToInteractive(key) {\n",
              "        const element = document.querySelector('#df-6638d948-1f94-476e-9f8c-0f700ba60937');\n",
              "        const dataTable =\n",
              "          await google.colab.kernel.invokeFunction('convertToInteractive',\n",
              "                                                    [key], {});\n",
              "        if (!dataTable) return;\n",
              "\n",
              "        const docLinkHtml = 'Like what you see? Visit the ' +\n",
              "          '<a target=\"_blank\" href=https://colab.research.google.com/notebooks/data_table.ipynb>data table notebook</a>'\n",
              "          + ' to learn more about interactive tables.';\n",
              "        element.innerHTML = '';\n",
              "        dataTable['output_type'] = 'display_data';\n",
              "        await google.colab.output.renderOutput(dataTable, element);\n",
              "        const docLink = document.createElement('div');\n",
              "        docLink.innerHTML = docLinkHtml;\n",
              "        element.appendChild(docLink);\n",
              "      }\n",
              "    </script>\n",
              "  </div>\n",
              "\n",
              "\n",
              "    <div id=\"df-266aa745-f671-44ef-850f-adfe7c4cf078\">\n",
              "      <button class=\"colab-df-quickchart\" onclick=\"quickchart('df-266aa745-f671-44ef-850f-adfe7c4cf078')\"\n",
              "                title=\"Suggest charts\"\n",
              "                style=\"display:none;\">\n",
              "\n",
              "<svg xmlns=\"http://www.w3.org/2000/svg\" height=\"24px\"viewBox=\"0 0 24 24\"\n",
              "     width=\"24px\">\n",
              "    <g>\n",
              "        <path d=\"M19 3H5c-1.1 0-2 .9-2 2v14c0 1.1.9 2 2 2h14c1.1 0 2-.9 2-2V5c0-1.1-.9-2-2-2zM9 17H7v-7h2v7zm4 0h-2V7h2v10zm4 0h-2v-4h2v4z\"/>\n",
              "    </g>\n",
              "</svg>\n",
              "      </button>\n",
              "\n",
              "<style>\n",
              "  .colab-df-quickchart {\n",
              "      --bg-color: #E8F0FE;\n",
              "      --fill-color: #1967D2;\n",
              "      --hover-bg-color: #E2EBFA;\n",
              "      --hover-fill-color: #174EA6;\n",
              "      --disabled-fill-color: #AAA;\n",
              "      --disabled-bg-color: #DDD;\n",
              "  }\n",
              "\n",
              "  [theme=dark] .colab-df-quickchart {\n",
              "      --bg-color: #3B4455;\n",
              "      --fill-color: #D2E3FC;\n",
              "      --hover-bg-color: #434B5C;\n",
              "      --hover-fill-color: #FFFFFF;\n",
              "      --disabled-bg-color: #3B4455;\n",
              "      --disabled-fill-color: #666;\n",
              "  }\n",
              "\n",
              "  .colab-df-quickchart {\n",
              "    background-color: var(--bg-color);\n",
              "    border: none;\n",
              "    border-radius: 50%;\n",
              "    cursor: pointer;\n",
              "    display: none;\n",
              "    fill: var(--fill-color);\n",
              "    height: 32px;\n",
              "    padding: 0;\n",
              "    width: 32px;\n",
              "  }\n",
              "\n",
              "  .colab-df-quickchart:hover {\n",
              "    background-color: var(--hover-bg-color);\n",
              "    box-shadow: 0 1px 2px rgba(60, 64, 67, 0.3), 0 1px 3px 1px rgba(60, 64, 67, 0.15);\n",
              "    fill: var(--button-hover-fill-color);\n",
              "  }\n",
              "\n",
              "  .colab-df-quickchart-complete:disabled,\n",
              "  .colab-df-quickchart-complete:disabled:hover {\n",
              "    background-color: var(--disabled-bg-color);\n",
              "    fill: var(--disabled-fill-color);\n",
              "    box-shadow: none;\n",
              "  }\n",
              "\n",
              "  .colab-df-spinner {\n",
              "    border: 2px solid var(--fill-color);\n",
              "    border-color: transparent;\n",
              "    border-bottom-color: var(--fill-color);\n",
              "    animation:\n",
              "      spin 1s steps(1) infinite;\n",
              "  }\n",
              "\n",
              "  @keyframes spin {\n",
              "    0% {\n",
              "      border-color: transparent;\n",
              "      border-bottom-color: var(--fill-color);\n",
              "      border-left-color: var(--fill-color);\n",
              "    }\n",
              "    20% {\n",
              "      border-color: transparent;\n",
              "      border-left-color: var(--fill-color);\n",
              "      border-top-color: var(--fill-color);\n",
              "    }\n",
              "    30% {\n",
              "      border-color: transparent;\n",
              "      border-left-color: var(--fill-color);\n",
              "      border-top-color: var(--fill-color);\n",
              "      border-right-color: var(--fill-color);\n",
              "    }\n",
              "    40% {\n",
              "      border-color: transparent;\n",
              "      border-right-color: var(--fill-color);\n",
              "      border-top-color: var(--fill-color);\n",
              "    }\n",
              "    60% {\n",
              "      border-color: transparent;\n",
              "      border-right-color: var(--fill-color);\n",
              "    }\n",
              "    80% {\n",
              "      border-color: transparent;\n",
              "      border-right-color: var(--fill-color);\n",
              "      border-bottom-color: var(--fill-color);\n",
              "    }\n",
              "    90% {\n",
              "      border-color: transparent;\n",
              "      border-bottom-color: var(--fill-color);\n",
              "    }\n",
              "  }\n",
              "</style>\n",
              "\n",
              "      <script>\n",
              "        async function quickchart(key) {\n",
              "          const quickchartButtonEl =\n",
              "            document.querySelector('#' + key + ' button');\n",
              "          quickchartButtonEl.disabled = true;  // To prevent multiple clicks.\n",
              "          quickchartButtonEl.classList.add('colab-df-spinner');\n",
              "          try {\n",
              "            const charts = await google.colab.kernel.invokeFunction(\n",
              "                'suggestCharts', [key], {});\n",
              "          } catch (error) {\n",
              "            console.error('Error during call to suggestCharts:', error);\n",
              "          }\n",
              "          quickchartButtonEl.classList.remove('colab-df-spinner');\n",
              "          quickchartButtonEl.classList.add('colab-df-quickchart-complete');\n",
              "        }\n",
              "        (() => {\n",
              "          let quickchartButtonEl =\n",
              "            document.querySelector('#df-266aa745-f671-44ef-850f-adfe7c4cf078 button');\n",
              "          quickchartButtonEl.style.display =\n",
              "            google.colab.kernel.accessAllowed ? 'block' : 'none';\n",
              "        })();\n",
              "      </script>\n",
              "    </div>\n",
              "\n",
              "  <div id=\"id_53940144-492e-432b-a3d7-20c0f789047b\">\n",
              "    <style>\n",
              "      .colab-df-generate {\n",
              "        background-color: #E8F0FE;\n",
              "        border: none;\n",
              "        border-radius: 50%;\n",
              "        cursor: pointer;\n",
              "        display: none;\n",
              "        fill: #1967D2;\n",
              "        height: 32px;\n",
              "        padding: 0 0 0 0;\n",
              "        width: 32px;\n",
              "      }\n",
              "\n",
              "      .colab-df-generate:hover {\n",
              "        background-color: #E2EBFA;\n",
              "        box-shadow: 0px 1px 2px rgba(60, 64, 67, 0.3), 0px 1px 3px 1px rgba(60, 64, 67, 0.15);\n",
              "        fill: #174EA6;\n",
              "      }\n",
              "\n",
              "      [theme=dark] .colab-df-generate {\n",
              "        background-color: #3B4455;\n",
              "        fill: #D2E3FC;\n",
              "      }\n",
              "\n",
              "      [theme=dark] .colab-df-generate:hover {\n",
              "        background-color: #434B5C;\n",
              "        box-shadow: 0px 1px 3px 1px rgba(0, 0, 0, 0.15);\n",
              "        filter: drop-shadow(0px 1px 2px rgba(0, 0, 0, 0.3));\n",
              "        fill: #FFFFFF;\n",
              "      }\n",
              "    </style>\n",
              "    <button class=\"colab-df-generate\" onclick=\"generateWithVariable('mean_features_per_cluster')\"\n",
              "            title=\"Generate code using this dataframe.\"\n",
              "            style=\"display:none;\">\n",
              "\n",
              "  <svg xmlns=\"http://www.w3.org/2000/svg\" height=\"24px\"viewBox=\"0 0 24 24\"\n",
              "       width=\"24px\">\n",
              "    <path d=\"M7,19H8.4L18.45,9,17,7.55,7,17.6ZM5,21V16.75L18.45,3.32a2,2,0,0,1,2.83,0l1.4,1.43a1.91,1.91,0,0,1,.58,1.4,1.91,1.91,0,0,1-.58,1.4L9.25,21ZM18.45,9,17,7.55Zm-12,3A5.31,5.31,0,0,0,4.9,8.1,5.31,5.31,0,0,0,1,6.5,5.31,5.31,0,0,0,4.9,4.9,5.31,5.31,0,0,0,6.5,1,5.31,5.31,0,0,0,8.1,4.9,5.31,5.31,0,0,0,12,6.5,5.46,5.46,0,0,0,6.5,12Z\"/>\n",
              "  </svg>\n",
              "    </button>\n",
              "    <script>\n",
              "      (() => {\n",
              "      const buttonEl =\n",
              "        document.querySelector('#id_53940144-492e-432b-a3d7-20c0f789047b button.colab-df-generate');\n",
              "      buttonEl.style.display =\n",
              "        google.colab.kernel.accessAllowed ? 'block' : 'none';\n",
              "\n",
              "      buttonEl.onclick = () => {\n",
              "        google.colab.notebook.generateWithVariable('mean_features_per_cluster');\n",
              "      }\n",
              "      })();\n",
              "    </script>\n",
              "  </div>\n",
              "\n",
              "    </div>\n",
              "  </div>\n"
            ],
            "application/vnd.google.colaboratory.intrinsic+json": {
              "type": "dataframe",
              "variable_name": "mean_features_per_cluster"
            }
          },
          "metadata": {}
        },
        {
          "output_type": "stream",
          "name": "stdout",
          "text": [
            "\n",
            "True Label Distribution per Cluster:\n"
          ]
        },
        {
          "output_type": "display_data",
          "data": {
            "text/plain": [
              "True_Label         0         1\n",
              "Cluster                       \n",
              "0           0.099291  0.900709\n",
              "1           0.902778  0.097222"
            ],
            "text/html": [
              "\n",
              "  <div id=\"df-7e2fdfb7-dc84-4059-a29c-268ec8221c3a\" class=\"colab-df-container\">\n",
              "    <div>\n",
              "<style scoped>\n",
              "    .dataframe tbody tr th:only-of-type {\n",
              "        vertical-align: middle;\n",
              "    }\n",
              "\n",
              "    .dataframe tbody tr th {\n",
              "        vertical-align: top;\n",
              "    }\n",
              "\n",
              "    .dataframe thead th {\n",
              "        text-align: right;\n",
              "    }\n",
              "</style>\n",
              "<table border=\"1\" class=\"dataframe\">\n",
              "  <thead>\n",
              "    <tr style=\"text-align: right;\">\n",
              "      <th>True_Label</th>\n",
              "      <th>0</th>\n",
              "      <th>1</th>\n",
              "    </tr>\n",
              "    <tr>\n",
              "      <th>Cluster</th>\n",
              "      <th></th>\n",
              "      <th></th>\n",
              "    </tr>\n",
              "  </thead>\n",
              "  <tbody>\n",
              "    <tr>\n",
              "      <th>0</th>\n",
              "      <td>0.099291</td>\n",
              "      <td>0.900709</td>\n",
              "    </tr>\n",
              "    <tr>\n",
              "      <th>1</th>\n",
              "      <td>0.902778</td>\n",
              "      <td>0.097222</td>\n",
              "    </tr>\n",
              "  </tbody>\n",
              "</table>\n",
              "</div>\n",
              "    <div class=\"colab-df-buttons\">\n",
              "\n",
              "  <div class=\"colab-df-container\">\n",
              "    <button class=\"colab-df-convert\" onclick=\"convertToInteractive('df-7e2fdfb7-dc84-4059-a29c-268ec8221c3a')\"\n",
              "            title=\"Convert this dataframe to an interactive table.\"\n",
              "            style=\"display:none;\">\n",
              "\n",
              "  <svg xmlns=\"http://www.w3.org/2000/svg\" height=\"24px\" viewBox=\"0 -960 960 960\">\n",
              "    <path d=\"M120-120v-720h720v720H120Zm60-500h600v-160H180v160Zm220 220h160v-160H400v160Zm0 220h160v-160H400v160ZM180-400h160v-160H180v160Zm440 0h160v-160H620v160ZM180-180h160v-160H180v160Zm440 0h160v-160H620v160Z\"/>\n",
              "  </svg>\n",
              "    </button>\n",
              "\n",
              "  <style>\n",
              "    .colab-df-container {\n",
              "      display:flex;\n",
              "      gap: 12px;\n",
              "    }\n",
              "\n",
              "    .colab-df-convert {\n",
              "      background-color: #E8F0FE;\n",
              "      border: none;\n",
              "      border-radius: 50%;\n",
              "      cursor: pointer;\n",
              "      display: none;\n",
              "      fill: #1967D2;\n",
              "      height: 32px;\n",
              "      padding: 0 0 0 0;\n",
              "      width: 32px;\n",
              "    }\n",
              "\n",
              "    .colab-df-convert:hover {\n",
              "      background-color: #E2EBFA;\n",
              "      box-shadow: 0px 1px 2px rgba(60, 64, 67, 0.3), 0px 1px 3px 1px rgba(60, 64, 67, 0.15);\n",
              "      fill: #174EA6;\n",
              "    }\n",
              "\n",
              "    .colab-df-buttons div {\n",
              "      margin-bottom: 4px;\n",
              "    }\n",
              "\n",
              "    [theme=dark] .colab-df-convert {\n",
              "      background-color: #3B4455;\n",
              "      fill: #D2E3FC;\n",
              "    }\n",
              "\n",
              "    [theme=dark] .colab-df-convert:hover {\n",
              "      background-color: #434B5C;\n",
              "      box-shadow: 0px 1px 3px 1px rgba(0, 0, 0, 0.15);\n",
              "      filter: drop-shadow(0px 1px 2px rgba(0, 0, 0, 0.3));\n",
              "      fill: #FFFFFF;\n",
              "    }\n",
              "  </style>\n",
              "\n",
              "    <script>\n",
              "      const buttonEl =\n",
              "        document.querySelector('#df-7e2fdfb7-dc84-4059-a29c-268ec8221c3a button.colab-df-convert');\n",
              "      buttonEl.style.display =\n",
              "        google.colab.kernel.accessAllowed ? 'block' : 'none';\n",
              "\n",
              "      async function convertToInteractive(key) {\n",
              "        const element = document.querySelector('#df-7e2fdfb7-dc84-4059-a29c-268ec8221c3a');\n",
              "        const dataTable =\n",
              "          await google.colab.kernel.invokeFunction('convertToInteractive',\n",
              "                                                    [key], {});\n",
              "        if (!dataTable) return;\n",
              "\n",
              "        const docLinkHtml = 'Like what you see? Visit the ' +\n",
              "          '<a target=\"_blank\" href=https://colab.research.google.com/notebooks/data_table.ipynb>data table notebook</a>'\n",
              "          + ' to learn more about interactive tables.';\n",
              "        element.innerHTML = '';\n",
              "        dataTable['output_type'] = 'display_data';\n",
              "        await google.colab.output.renderOutput(dataTable, element);\n",
              "        const docLink = document.createElement('div');\n",
              "        docLink.innerHTML = docLinkHtml;\n",
              "        element.appendChild(docLink);\n",
              "      }\n",
              "    </script>\n",
              "  </div>\n",
              "\n",
              "\n",
              "    <div id=\"df-f89b8f14-4c58-428e-a60c-960860ca2137\">\n",
              "      <button class=\"colab-df-quickchart\" onclick=\"quickchart('df-f89b8f14-4c58-428e-a60c-960860ca2137')\"\n",
              "                title=\"Suggest charts\"\n",
              "                style=\"display:none;\">\n",
              "\n",
              "<svg xmlns=\"http://www.w3.org/2000/svg\" height=\"24px\"viewBox=\"0 0 24 24\"\n",
              "     width=\"24px\">\n",
              "    <g>\n",
              "        <path d=\"M19 3H5c-1.1 0-2 .9-2 2v14c0 1.1.9 2 2 2h14c1.1 0 2-.9 2-2V5c0-1.1-.9-2-2-2zM9 17H7v-7h2v7zm4 0h-2V7h2v10zm4 0h-2v-4h2v4z\"/>\n",
              "    </g>\n",
              "</svg>\n",
              "      </button>\n",
              "\n",
              "<style>\n",
              "  .colab-df-quickchart {\n",
              "      --bg-color: #E8F0FE;\n",
              "      --fill-color: #1967D2;\n",
              "      --hover-bg-color: #E2EBFA;\n",
              "      --hover-fill-color: #174EA6;\n",
              "      --disabled-fill-color: #AAA;\n",
              "      --disabled-bg-color: #DDD;\n",
              "  }\n",
              "\n",
              "  [theme=dark] .colab-df-quickchart {\n",
              "      --bg-color: #3B4455;\n",
              "      --fill-color: #D2E3FC;\n",
              "      --hover-bg-color: #434B5C;\n",
              "      --hover-fill-color: #FFFFFF;\n",
              "      --disabled-bg-color: #3B4455;\n",
              "      --disabled-fill-color: #666;\n",
              "  }\n",
              "\n",
              "  .colab-df-quickchart {\n",
              "    background-color: var(--bg-color);\n",
              "    border: none;\n",
              "    border-radius: 50%;\n",
              "    cursor: pointer;\n",
              "    display: none;\n",
              "    fill: var(--fill-color);\n",
              "    height: 32px;\n",
              "    padding: 0;\n",
              "    width: 32px;\n",
              "  }\n",
              "\n",
              "  .colab-df-quickchart:hover {\n",
              "    background-color: var(--hover-bg-color);\n",
              "    box-shadow: 0 1px 2px rgba(60, 64, 67, 0.3), 0 1px 3px 1px rgba(60, 64, 67, 0.15);\n",
              "    fill: var(--button-hover-fill-color);\n",
              "  }\n",
              "\n",
              "  .colab-df-quickchart-complete:disabled,\n",
              "  .colab-df-quickchart-complete:disabled:hover {\n",
              "    background-color: var(--disabled-bg-color);\n",
              "    fill: var(--disabled-fill-color);\n",
              "    box-shadow: none;\n",
              "  }\n",
              "\n",
              "  .colab-df-spinner {\n",
              "    border: 2px solid var(--fill-color);\n",
              "    border-color: transparent;\n",
              "    border-bottom-color: var(--fill-color);\n",
              "    animation:\n",
              "      spin 1s steps(1) infinite;\n",
              "  }\n",
              "\n",
              "  @keyframes spin {\n",
              "    0% {\n",
              "      border-color: transparent;\n",
              "      border-bottom-color: var(--fill-color);\n",
              "      border-left-color: var(--fill-color);\n",
              "    }\n",
              "    20% {\n",
              "      border-color: transparent;\n",
              "      border-left-color: var(--fill-color);\n",
              "      border-top-color: var(--fill-color);\n",
              "    }\n",
              "    30% {\n",
              "      border-color: transparent;\n",
              "      border-left-color: var(--fill-color);\n",
              "      border-top-color: var(--fill-color);\n",
              "      border-right-color: var(--fill-color);\n",
              "    }\n",
              "    40% {\n",
              "      border-color: transparent;\n",
              "      border-right-color: var(--fill-color);\n",
              "      border-top-color: var(--fill-color);\n",
              "    }\n",
              "    60% {\n",
              "      border-color: transparent;\n",
              "      border-right-color: var(--fill-color);\n",
              "    }\n",
              "    80% {\n",
              "      border-color: transparent;\n",
              "      border-right-color: var(--fill-color);\n",
              "      border-bottom-color: var(--fill-color);\n",
              "    }\n",
              "    90% {\n",
              "      border-color: transparent;\n",
              "      border-bottom-color: var(--fill-color);\n",
              "    }\n",
              "  }\n",
              "</style>\n",
              "\n",
              "      <script>\n",
              "        async function quickchart(key) {\n",
              "          const quickchartButtonEl =\n",
              "            document.querySelector('#' + key + ' button');\n",
              "          quickchartButtonEl.disabled = true;  // To prevent multiple clicks.\n",
              "          quickchartButtonEl.classList.add('colab-df-spinner');\n",
              "          try {\n",
              "            const charts = await google.colab.kernel.invokeFunction(\n",
              "                'suggestCharts', [key], {});\n",
              "          } catch (error) {\n",
              "            console.error('Error during call to suggestCharts:', error);\n",
              "          }\n",
              "          quickchartButtonEl.classList.remove('colab-df-spinner');\n",
              "          quickchartButtonEl.classList.add('colab-df-quickchart-complete');\n",
              "        }\n",
              "        (() => {\n",
              "          let quickchartButtonEl =\n",
              "            document.querySelector('#df-f89b8f14-4c58-428e-a60c-960860ca2137 button');\n",
              "          quickchartButtonEl.style.display =\n",
              "            google.colab.kernel.accessAllowed ? 'block' : 'none';\n",
              "        })();\n",
              "      </script>\n",
              "    </div>\n",
              "\n",
              "  <div id=\"id_2e3104ac-f164-4fcc-95ef-574889f77aca\">\n",
              "    <style>\n",
              "      .colab-df-generate {\n",
              "        background-color: #E8F0FE;\n",
              "        border: none;\n",
              "        border-radius: 50%;\n",
              "        cursor: pointer;\n",
              "        display: none;\n",
              "        fill: #1967D2;\n",
              "        height: 32px;\n",
              "        padding: 0 0 0 0;\n",
              "        width: 32px;\n",
              "      }\n",
              "\n",
              "      .colab-df-generate:hover {\n",
              "        background-color: #E2EBFA;\n",
              "        box-shadow: 0px 1px 2px rgba(60, 64, 67, 0.3), 0px 1px 3px 1px rgba(60, 64, 67, 0.15);\n",
              "        fill: #174EA6;\n",
              "      }\n",
              "\n",
              "      [theme=dark] .colab-df-generate {\n",
              "        background-color: #3B4455;\n",
              "        fill: #D2E3FC;\n",
              "      }\n",
              "\n",
              "      [theme=dark] .colab-df-generate:hover {\n",
              "        background-color: #434B5C;\n",
              "        box-shadow: 0px 1px 3px 1px rgba(0, 0, 0, 0.15);\n",
              "        filter: drop-shadow(0px 1px 2px rgba(0, 0, 0, 0.3));\n",
              "        fill: #FFFFFF;\n",
              "      }\n",
              "    </style>\n",
              "    <button class=\"colab-df-generate\" onclick=\"generateWithVariable('true_label_distribution_per_cluster')\"\n",
              "            title=\"Generate code using this dataframe.\"\n",
              "            style=\"display:none;\">\n",
              "\n",
              "  <svg xmlns=\"http://www.w3.org/2000/svg\" height=\"24px\"viewBox=\"0 0 24 24\"\n",
              "       width=\"24px\">\n",
              "    <path d=\"M7,19H8.4L18.45,9,17,7.55,7,17.6ZM5,21V16.75L18.45,3.32a2,2,0,0,1,2.83,0l1.4,1.43a1.91,1.91,0,0,1,.58,1.4,1.91,1.91,0,0,1-.58,1.4L9.25,21ZM18.45,9,17,7.55Zm-12,3A5.31,5.31,0,0,0,4.9,8.1,5.31,5.31,0,0,0,1,6.5,5.31,5.31,0,0,0,4.9,4.9,5.31,5.31,0,0,0,6.5,1,5.31,5.31,0,0,0,8.1,4.9,5.31,5.31,0,0,0,12,6.5,5.46,5.46,0,0,0,6.5,12Z\"/>\n",
              "  </svg>\n",
              "    </button>\n",
              "    <script>\n",
              "      (() => {\n",
              "      const buttonEl =\n",
              "        document.querySelector('#id_2e3104ac-f164-4fcc-95ef-574889f77aca button.colab-df-generate');\n",
              "      buttonEl.style.display =\n",
              "        google.colab.kernel.accessAllowed ? 'block' : 'none';\n",
              "\n",
              "      buttonEl.onclick = () => {\n",
              "        google.colab.notebook.generateWithVariable('true_label_distribution_per_cluster');\n",
              "      }\n",
              "      })();\n",
              "    </script>\n",
              "  </div>\n",
              "\n",
              "    </div>\n",
              "  </div>\n"
            ],
            "application/vnd.google.colaboratory.intrinsic+json": {
              "type": "dataframe",
              "variable_name": "true_label_distribution_per_cluster",
              "summary": "{\n  \"name\": \"true_label_distribution_per_cluster\",\n  \"rows\": 2,\n  \"fields\": [\n    {\n      \"column\": \"Cluster\",\n      \"properties\": {\n        \"dtype\": \"int32\",\n        \"num_unique_values\": 2,\n        \"samples\": [\n          1,\n          0\n        ],\n        \"semantic_type\": \"\",\n        \"description\": \"\"\n      }\n    },\n    {\n      \"column\": 0,\n      \"properties\": {\n        \"dtype\": \"number\",\n        \"std\": 0.5681511046235883,\n        \"min\": 0.09929078014184398,\n        \"max\": 0.9027777777777778,\n        \"num_unique_values\": 2,\n        \"samples\": [\n          0.9027777777777778,\n          0.09929078014184398\n        ],\n        \"semantic_type\": \"\",\n        \"description\": \"\"\n      }\n    },\n    {\n      \"column\": 1,\n      \"properties\": {\n        \"dtype\": \"number\",\n        \"std\": 0.5681511046235883,\n        \"min\": 0.09722222222222222,\n        \"max\": 0.900709219858156,\n        \"num_unique_values\": 2,\n        \"samples\": [\n          0.09722222222222222,\n          0.900709219858156\n        ],\n        \"semantic_type\": \"\",\n        \"description\": \"\"\n      }\n    }\n  ]\n}"
            }
          },
          "metadata": {}
        }
      ]
    },
    {
      "cell_type": "markdown",
      "metadata": {
        "id": "25680d61"
      },
      "source": [
        "## Summary:\n",
        "\n",
        "### Data Analysis Key Findings\n",
        "*   The optimal number of clusters for the breast cancer dataset, as determined by the silhouette score method, is 2.\n",
        "*   The K-Means clustering algorithm, with n_clusters=2, successfully partitioned the data into two distinct groups.\n",
        "*   Cluster 0 is characterized by lower mean feature values and is predominantly composed of benign tumors (90.1%).\n",
        "*   Cluster 1 exhibits higher mean feature values and is overwhelmingly composed of malignant tumors (90.3%).\n",
        "\n",
        "### Insights or Next Steps\n",
        "*   Since the clusters align well with the true labels (benign vs. malignant), the identified features that differentiate the clusters (e.g., mean radius, mean texture) can be considered important predictors for breast cancer diagnosis.\n",
        "*   Future analysis could explore other clustering algorithms (e.g., DBSCAN, Agglomerative Clustering) to see if they provide a better or more nuanced grouping of the data.\n"
      ]
    },
    {
      "cell_type": "markdown",
      "metadata": {
        "id": "ed392ce4"
      },
      "source": [
        "## Comparison of Classification vs Clustering Results\n",
        "\n",
        "Building on the previous analysis, here's a comparison of the results we obtained for classification and clustering on the breast cancer dataset:\n",
        "\n",
        "**Classification Results:**\n",
        "\n",
        "*   We trained and evaluated four classification models: Logistic Regression, SVM, Random Forest, and KNN.\n",
        "*   All models achieved high performance metrics (accuracy, precision, recall, and F1-score) generally above 0.95 on the test set.\n",
        "*   This indicates that these models were very effective at predicting the *known* labels (malignant or benign) based on the provided features.\n",
        "*   Logistic Regression and Random Forest had the highest accuracy and precision, while SVM had the highest recall and KNN had the highest F1-score. The choice of the \"best\" classification model would depend on which metric is most critical for the application (e.g., minimizing false negatives for medical diagnosis might prioritize recall).\n",
        "\n",
        "**Clustering Results:**\n",
        "\n",
        "*   We used K-Means clustering and determined that the optimal number of clusters was 2 based on the silhouette score.\n",
        "*   The clustering algorithm successfully grouped the data into two distinct clusters.\n",
        "*   Upon analyzing the characteristics of these clusters, we found a strong correspondence between the clusters and the true labels:\n",
        "    *   Cluster 0 predominantly contained benign tumors (around 90%).\n",
        "    *   Cluster 1 predominantly contained malignant tumors (around 90%).\n",
        "*   We also observed that the features had significantly different mean values between the two clusters, further highlighting the separation.\n",
        "\n",
        "**Comparison and Insights:**\n",
        "\n",
        "*   The high performance of the classification models demonstrates that the features in the breast cancer dataset are highly predictive of whether a tumor is malignant or benign.\n",
        "*   The clustering results provide valuable insight by showing that the data naturally separates into two groups that align almost perfectly with the true labels. This essentially validates that the underlying structure of the data supports the classification task. The features that drive the separation in clustering are likely the most important features for classification as well.\n",
        "*   In this specific scenario, clustering helped us understand the inherent groupings in the data, which strongly correlate with the outcome we were trying to predict with classification. While clustering itself doesn't predict the label for a new data point (unless used in a hybrid approach), the fact that the clusters align so well with the true labels reinforces the effectiveness of using these features for supervised classification.\n",
        "\n",
        "In summary, both approaches yielded meaningful results. The classification models provided strong predictive power, and the clustering results provided valuable insight into the data's structure, confirming that the features effectively distinguish between benign and malignant cases."
      ]
    }
  ]
}